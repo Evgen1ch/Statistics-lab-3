{
 "cells": [
  {
   "cell_type": "code",
   "execution_count": 1,
   "metadata": {},
   "outputs": [],
   "source": [
    "%matplotlib inline\n",
    "import matplotlib.pyplot as plt\n",
    "import seaborn as sns\n",
    "\n",
    "import pandas as pd\n",
    "\n",
    "from statsmodels.distributions.empirical_distribution import ECDF\n",
    "\n",
    "from IPython.display import display\n",
    "\n",
    "from my_criterions import *\n",
    "from my_statistics import *"
   ]
  },
  {
   "cell_type": "code",
   "execution_count": 20,
   "metadata": {},
   "outputs": [],
   "source": [
    "def load_distributions_indep(filename: str):\n",
    "    both = pd.read_csv(filename, names=['x', 'dist'], sep=' ')\n",
    "    d1 = both[both['dist'] == 0]\n",
    "    d2 = both[both['dist'] == 1]\n",
    "    d1 = d1.drop(columns='dist').values\n",
    "    d2 = d2.drop(columns='dist').reset_index(drop=True).values\n",
    "    return (d1, d2)\n",
    "\n",
    "def load_distributions_dep(filename: str):\n",
    "    both = pd.read_csv(filename, names=['x', 'y'], sep=' ')\n",
    "    d1 = both['x'].values\n",
    "    d2 = both['y'].values\n",
    "    return (d1, d2)"
   ]
  },
  {
   "cell_type": "markdown",
   "metadata": {},
   "source": [
    "Небольшой тест по примерам из лекций"
   ]
  },
  {
   "cell_type": "code",
   "execution_count": 3,
   "metadata": {},
   "outputs": [
    {
     "name": "stdout",
     "output_type": "stream",
     "text": [
      "(True, -0.16903085094570333, 1.959963984540054)\n"
     ]
    },
    {
     "data": {
      "image/png": "[encoded data removed]",
      "text/plain": [
       "<Figure size 432x288 with 1 Axes>"
      ]
     },
     "metadata": {
      "needs_background": "light"
     },
     "output_type": "display_data"
    },
    {
     "name": "stdout",
     "output_type": "stream",
     "text": [
      "(True, -0.28571428571428575, 1.959963984540054)\n"
     ]
    },
    {
     "data": {
      "image/png": "[encoded data removed]",
      "text/plain": [
       "<Figure size 432x288 with 1 Axes>"
      ]
     },
     "metadata": {
      "needs_background": "light"
     },
     "output_type": "display_data"
    }
   ],
   "source": [
    "x = np.array([3, 9, 5, 8, 5, 6, 9, 7])\n",
    "y = np.array([5, 4, 5, 9, 6, 10, 3, 8])\n",
    "print(WilcoxonSignedRanksTest(x, y))\n",
    "plt.hist(x,alpha=0.5)\n",
    "plt.hist(y,alpha=0.5)\n",
    "plt.show()\n",
    "\n",
    "x = np.array([10, 3, 18, -1, 20, 10, 3])\n",
    "y = np.array([15, 7, 0, 10, 25, 9])\n",
    "print(MannWhitneyTest(x, y))\n",
    "plt.hist(x,alpha=0.5)\n",
    "plt.hist(y,alpha=0.5)\n",
    "plt.show()"
   ]
  },
  {
   "cell_type": "code",
   "execution_count": 21,
   "metadata": {},
   "outputs": [
    {
     "data": {
      "text/plain": [
       "(300, 300)"
      ]
     },
     "execution_count": 21,
     "metadata": {},
     "output_type": "execute_result"
    }
   ],
   "source": [
    "dist1, dist2 = load_distributions_indep('data_lab3/dep/norm!=1.txt')\n",
    "len(dist1), len(dist2)"
   ]
  },
  {
   "cell_type": "code",
   "execution_count": 22,
   "metadata": {},
   "outputs": [
    {
     "data": {
      "image/png": "[encoded data removed]",
      "text/plain": [
       "<Figure size 432x288 with 1 Axes>"
      ]
     },
     "metadata": {
      "needs_background": "light"
     },
     "output_type": "display_data"
    }
   ],
   "source": [
    "bins = 9\n",
    "plt.hist(dist1, alpha=0.5, bins=bins)\n",
    "plt.hist(dist2, alpha=0.5, bins=bins)\n",
    "plt.show()"
   ]
  },
  {
   "cell_type": "code",
   "execution_count": 24,
   "metadata": {},
   "outputs": [
    {
     "name": "stdout",
     "output_type": "stream",
     "text": [
      "Variance equality: (False, 4.734445461528675, 1.2099167425932442)\n",
      "Mean equality: (False, 25.756987223784446, 1.9679296690653618)\n"
     ]
    }
   ],
   "source": [
    "print(\"Variance equality:\", variance_equality(dist1, dist2))\n",
    "print(\"Mean equality:\", mean_equality_dep(dist1, dist2))"
   ]
  },
  {
   "cell_type": "code",
   "execution_count": 18,
   "metadata": {},
   "outputs": [
    {
     "data": {
      "image/png": "[encoded data removed]",
      "text/plain": [
       "<Figure size 432x288 with 1 Axes>"
      ]
     },
     "metadata": {
      "needs_background": "light"
     },
     "output_type": "display_data"
    }
   ],
   "source": [
    "d1, d2 = load_distributions_dep(\"data_lab3/indep/norm=6.txt\")\n",
    "bins = 9\n",
    "plt.hist(d1, alpha=0.5, bins=bins)\n",
    "plt.hist(d2, alpha=0.5, bins=bins)\n",
    "plt.show()"
   ]
  },
  {
   "cell_type": "code",
   "execution_count": 19,
   "metadata": {},
   "outputs": [
    {
     "name": "stdout",
     "output_type": "stream",
     "text": [
      "Variance equality: (True, 1.0, 1.4944206985086363)\n",
      "Mean equality: (True, 0.0, 1.9954689309194018)\n",
      "Wilcoxon test (True, 0.0, 1.959963984540054)\n"
     ]
    }
   ],
   "source": [
    "print(\"Variance equality:\", variance_equality(d1, d2))\n",
    "print(\"Mean equality:\", mean_equality_dep(d1, d2))\n",
    "print(\"Wilcoxon test\", WilcoxonSignedRanksTest(d1, d2))"
   ]
  },
  {
   "cell_type": "code",
   "execution_count": 25,
   "metadata": {},
   "outputs": [
    {
     "data": {
      "image/png": "[encoded data removed]",
      "text/plain": [
       "<Figure size 432x288 with 1 Axes>"
      ]
     },
     "metadata": {
      "needs_background": "light"
     },
     "output_type": "display_data"
    }
   ],
   "source": [
    "d1, d2 = load_distributions_indep(\"data_lab3/dep/norm=6.txt\")\n",
    "bins = 9\n",
    "plt.hist(d1, alpha=0.5, bins=bins)\n",
    "plt.hist(d2, alpha=0.5, bins=bins)\n",
    "plt.show()"
   ]
  },
  {
   "cell_type": "code",
   "execution_count": 12,
   "metadata": {},
   "outputs": [
    {
     "name": "stdout",
     "output_type": "stream",
     "text": [
      "Variance equality: (True, 1.0, 1.4944206985086363)\n",
      "Mean equality: (True, 0.0, 1.9775607765430832)\n",
      "Mann-Whitney test (True, 0.0, 1.959963984540054)\n"
     ]
    }
   ],
   "source": [
    "print(\"Variance equality:\", variance_equality(d1, d2))\n",
    "print(\"Mean equality:\", mean_equality_indep(d1, d2))\n",
    "print(\"Mann-Whitney test\", MannWhitneyTest(d1, d2))"
   ]
  },
  {
   "cell_type": "markdown",
   "metadata": {},
   "source": [
    "# Задача 1\n",
    "<p>У файлі readingspeed.txt міститься інформація щодо швидкості читання у дітей залежно від\n",
    "методики, за якою їх навчали (DRA – direct reading activities, SC – standart curriculum). Потрібно\n",
    "перевірити, чи різниться швидкість читання у разі навчання за цими методиками.</p>\n",
    "<p>1. Вибірки є незалежними, оскільки у вимірах приймають участі різні діти і використовуються різні методики.</p>"
   ]
  },
  {
   "cell_type": "markdown",
   "metadata": {},
   "source": [
    "<p>2. Якщо вибірки незалежні:</p>\n",
    "<p>– перевірити, чи нормально розподілені дані кожної вибірки, скориставшись\n",
    "лабораторною роботою 1;</p>\n",
    "<p>– для кожної вибірки проаналізувати середнє та 95% довірчий інтервал для нього;\n",
    "якщо хоча б одна з вибірок розподілена не за нормальним законом, то поряд із середнім\n",
    "проаналізувати медіану та 95% довірчий інтервал для неї;</p>\n",
    "</p>– застосувати для розв’язання задачі параметричний або ранговий критерій в\n",
    "залежності від результатів перевірки на нормальність.</p>"
   ]
  },
  {
   "cell_type": "code",
   "execution_count": 2,
   "metadata": {},
   "outputs": [
    {
     "data": {
      "image/png": "[encoded data removed]",
      "text/plain": [
       "<Figure size 432x288 with 1 Axes>"
      ]
     },
     "metadata": {
      "needs_background": "light"
     },
     "output_type": "display_data"
    },
    {
     "name": "stdout",
     "output_type": "stream",
     "text": [
      "Is first normal: True\n",
      "Is second normal: True\n",
      "First mean: 51.476190476190474 confidence interval: (46.46570171119898, 56.48667924118197)\n",
      "second mean: 41.52173913043478 confidence interval: (34.1060707899468, 48.937407470922764)\n"
     ]
    }
   ],
   "source": [
    "df = pd.read_csv(\"data_lab3_tasks/readingspeed.txt\", sep=' ')\n",
    "d1 = df[df[\"LearningType\"] == \"DRA\"].drop(columns=\"LearningType\")[\"Score\"].values\n",
    "d2 = df[df[\"LearningType\"] == \"SC\"].drop(columns=\"LearningType\").reset_index(drop=True)['Score'].values\n",
    "plt.hist(d1, alpha=0.5, bins=5)\n",
    "plt.hist(d2, alpha=0.5, bins=5)\n",
    "plt.show()\n",
    "print(\"Is first normal:\", myNormalTest(d1))\n",
    "print(\"Is second normal:\", myNormalTest(d2))\n",
    "\n",
    "print(\"First mean:\", Mean(d1), \"confidence interval:\", norm_mean_confidence_interval(d1))\n",
    "print(\"second mean:\", Mean(d2), \"confidence interval:\", norm_mean_confidence_interval(d2))"
   ]
  },
  {
   "cell_type": "markdown",
   "metadata": {},
   "source": [
    "<p>Оскільки розподіли ідентицікуються як нормальні використаємо пареметричні критерії</p>"
   ]
  },
  {
   "cell_type": "code",
   "execution_count": 3,
   "metadata": {},
   "outputs": [
    {
     "name": "stdout",
     "output_type": "stream",
     "text": [
      "Variance equality: (False, 2.427157710678897, 2.1016033561950427)\n",
      "Mean equality: (False, 2.310889197854228, 2.024648135210701)\n"
     ]
    }
   ],
   "source": [
    "print(\"Variance equality:\", variance_equality(d1, d2))\n",
    "print(\"Mean equality:\", mean_equality_indep(d1, d2, welch=True))"
   ]
  },
  {
   "cell_type": "markdown",
   "metadata": {},
   "source": [
    "### Вывод: в среднем, скорость чтения в первой группе выше чем во второй. Это также подтверждают критерии проверки."
   ]
  },
  {
   "cell_type": "markdown",
   "metadata": {},
   "source": [
    "# Задача 2\n",
    "<p>Для 61 великого міста Англії та Уельсу відома середня річна смертність на 100 тис.\n",
    "населення (за даними 1958-1964 років), а також концентрація калію у воді (в частинах на мільйон).\n",
    "Чим вища концентрація калію, тим жорсткіша вода. Додатково міста поділено на південні та\n",
    "північні. Дані містяться у файлі water.txt. Потрібно перевірити: 1) чи різниться середня смертність\n",
    "на півночі та півдні країни, 2) чи різниться жорсткість води у північних та південних містах.</p>"
   ]
  },
  {
   "cell_type": "markdown",
   "metadata": {},
   "source": [
    "Дані, відносно розташування, незалежні, оскільки відносяться до різних географічних регіонів."
   ]
  },
  {
   "cell_type": "markdown",
   "metadata": {},
   "source": []
  },
  {
   "cell_type": "code",
   "execution_count": 5,
   "metadata": {},
   "outputs": [],
   "source": [
    "df = pd.read_csv(\"data_lab3_tasks/water.txt\", sep='\\t')\n",
    "S = df[df[\"location\"] == \"South\"].drop(columns=[\"location\", \"town\"])\n",
    "N = df[df[\"location\"] == \"North\"].drop(columns=[\"location\", \"town\"])\n",
    "S_mortality = S[\"mortality\"].values\n",
    "S_hardness = S[\"hardness\"].values\n",
    "N_mortality = N[\"mortality\"].values\n",
    "N_hardness = N[\"hardness\"].values"
   ]
  },
  {
   "cell_type": "markdown",
   "metadata": {},
   "source": [
    "### Mortality"
   ]
  },
  {
   "cell_type": "code",
   "execution_count": 6,
   "metadata": {},
   "outputs": [
    {
     "data": {
      "image/png": "[encoded data removed]",
      "text/plain": [
       "<Figure size 432x288 with 1 Axes>"
      ]
     },
     "metadata": {
      "needs_background": "light"
     },
     "output_type": "display_data"
    },
    {
     "name": "stdout",
     "output_type": "stream",
     "text": [
      "Is first normal: True\n",
      "Is second normal: True\n",
      "First mean: 1376.8076923076924 confidence interval: (1320.1517462936238, 1433.463638321761)\n",
      "Second mean: 1633.6 confidence interval: (1586.5605251961385, 1680.6394748038613)\n"
     ]
    }
   ],
   "source": [
    "plt.hist(S_mortality, alpha=0.5, label='South')\n",
    "plt.hist(N_mortality, alpha=0.5, label='North')\n",
    "plt.title(\"Mortality\")\n",
    "plt.legend()\n",
    "plt.show()\n",
    "print(\"Is first normal:\", myNormalTest(S_mortality))\n",
    "print(\"Is second normal:\", myNormalTest(N_mortality))\n",
    "print(\"First mean:\", Mean(S_mortality), \"confidence interval:\", norm_mean_confidence_interval(S_mortality))\n",
    "print(\"Second mean:\", Mean(N_mortality), \"confidence interval:\", norm_mean_confidence_interval(N_mortality))"
   ]
  },
  {
   "cell_type": "markdown",
   "metadata": {},
   "source": [
    "Навіть без застосування критеріїв видно, що середні досить сильно відрізняються. Також іх довірчі інтервали не перетинаються."
   ]
  },
  {
   "cell_type": "code",
   "execution_count": 7,
   "metadata": {},
   "outputs": [
    {
     "name": "stdout",
     "output_type": "stream",
     "text": [
      "Variance equality: (True, 1.0492607615360292, 1.833424568978017)\n",
      "Mean equality: (False, -7.168550664340208, 2.00099537704821)\n"
     ]
    }
   ],
   "source": [
    "print(\"Variance equality:\", variance_equality(S_mortality, N_mortality))\n",
    "print(\"Mean equality:\", mean_equality_indep(S_mortality, N_mortality, welch=False))"
   ]
  },
  {
   "cell_type": "markdown",
   "metadata": {},
   "source": [
    "### Вывод: Средняя смертность выше на севере. Разброс одинаковый, но присутствует сдвиг."
   ]
  },
  {
   "cell_type": "markdown",
   "metadata": {},
   "source": [
    "### Water hardness"
   ]
  },
  {
   "cell_type": "code",
   "execution_count": 25,
   "metadata": {},
   "outputs": [
    {
     "data": {
      "image/png": "[encoded data removed]",
      "text/plain": [
       "<Figure size 432x288 with 1 Axes>"
      ]
     },
     "metadata": {
      "needs_background": "light"
     },
     "output_type": "display_data"
    },
    {
     "name": "stdout",
     "output_type": "stream",
     "text": [
      "Is first normal: True\n",
      "Is second normal: False\n",
      "----------------------------------------------\n",
      "First mean: 69.76923076923077 confidence interval: (53.467198692036106, 86.07126284642544)\n",
      "Second mean: 30.4 confidence interval: (21.42248728572426, 39.37751271427574)\n",
      "----------------------------------------------\n",
      "First median: 75.5 confidence interval: (53, 90)\n",
      "Second median: 17 confidence interval: (14, 39)\n"
     ]
    }
   ],
   "source": [
    "plt.hist(S_hardness, alpha=0.5, label='South')\n",
    "plt.hist(N_hardness, alpha=0.5, label='North')\n",
    "plt.title(\"Water hardness\")\n",
    "plt.legend()\n",
    "plt.show()\n",
    "\n",
    "print(\"Is first normal:\", myNormalTest(S_hardness))\n",
    "print(\"Is second normal:\", myNormalTest(N_hardness))\n",
    "print(\"----------------------------------------------\")\n",
    "print(\"First mean:\", Mean(S_hardness), \"confidence interval:\", norm_mean_confidence_interval(S_hardness))\n",
    "print(\"Second mean:\", Mean(N_hardness), \"confidence interval:\", norm_mean_confidence_interval(N_hardness))\n",
    "print(\"----------------------------------------------\")\n",
    "print(\"First median:\", Median(S_hardness), \"confidence interval:\", median_conf_interval(S_hardness))\n",
    "print(\"Second median:\", Median(N_hardness), \"confidence interval:\", median_conf_interval(N_hardness))"
   ]
  },
  {
   "cell_type": "code",
   "execution_count": 28,
   "metadata": {},
   "outputs": [
    {
     "name": "stdout",
     "output_type": "stream",
     "text": [
      "Mann-Whitney test: (False, 3.6824381786233964, 1.959963984540054)\n"
     ]
    }
   ],
   "source": [
    "print(\"Mann-Whitney test:\", MannWhitneyTest(S_hardness, N_hardness))"
   ]
  },
  {
   "cell_type": "markdown",
   "metadata": {},
   "source": [
    "### Вывод: Жесткость воды в среднем выше на Юге. На юге показатель распределен скорее по равномерному закону, тогда как на севере по какому-то, которому соответствует унимодальная гистограмма (экспоненциальное, вейбулла, парето)."
   ]
  },
  {
   "cell_type": "markdown",
   "metadata": {},
   "source": [
    "# Задача 3\n",
    "<p>У рамках дослідження ефективності препарату «метилфенидат» 24 пацієнти із синдромом\n",
    "дефіциту уваги та гіперактивності протягом тижня приймали або метилфенидат, або плацебо.\n",
    "Наприкінці тижня кожен пацієнт проходив тест на здатність до пригнічення імпульсивних\n",
    "поведінкових реакцій. На другому етапі плацебо та препарат мінялися, і після тижневого курсу\n",
    "кожний піддослідний проходив другий тест. Результати першого та другого тестів містяться у\n",
    "файлі ADHD.txt. Потрібно оцінити ефект від застосування препарату.</p>\n",
    "<P>Вибірки залежні, оскільки дослідження проводяться на тих самих пацієнтах.</P>"
   ]
  },
  {
   "cell_type": "code",
   "execution_count": 8,
   "metadata": {},
   "outputs": [
    {
     "data": {
      "image/png": "[encoded data removed]",
      "text/plain": [
       "<Figure size 432x288 with 1 Axes>"
      ]
     },
     "metadata": {
      "needs_background": "light"
     },
     "output_type": "display_data"
    },
    {
     "data": {
      "image/png": "[encoded data removed]",
      "text/plain": [
       "<Figure size 432x288 with 1 Axes>"
      ]
     },
     "metadata": {
      "needs_background": "light"
     },
     "output_type": "display_data"
    },
    {
     "name": "stdout",
     "output_type": "stream",
     "text": [
      "Is Difference normal: True\n",
      "Difference mean: -4.958333333333333 confidence interval: (-8.14143087734743, -1.775235789319236)\n"
     ]
    }
   ],
   "source": [
    "df = pd.read_csv(\"data_lab3_tasks/ADHD.txt\",sep=' ')\n",
    "placebo = df['Placebo'].values\n",
    "methylphenidate = df[\"Methylphenidate\"].values\n",
    "\n",
    "plt.hist(placebo, alpha=0.5, label=\"placebo\")\n",
    "plt.hist(methylphenidate, alpha=0.5, label=\"methylphenidate\")\n",
    "plt.legend()\n",
    "plt.show()\n",
    "\n",
    "diff = placebo - methylphenidate\n",
    "plt.hist(diff, bins=5)\n",
    "plt.show()\n",
    "print(\"Is Difference normal:\", myNormalTest(diff))\n",
    "\n",
    "print(\"Difference mean:\", Mean(diff), \"confidence interval:\", norm_mean_confidence_interval(diff))"
   ]
  },
  {
   "cell_type": "code",
   "execution_count": 58,
   "metadata": {},
   "outputs": [
    {
     "name": "stdout",
     "output_type": "stream",
     "text": [
      "Variance equality test: (True, 1.1855861210165843, 2.0144248417118233)\n",
      "Mean equality test: (False, -3.2223624451230406, 2.0686576104190406)\n"
     ]
    }
   ],
   "source": [
    "print(\"Variance equality test:\", variance_equality(placebo, methylphenidate))\n",
    "print(\"Mean equality test:\", mean_equality_dep(placebo, methylphenidate))"
   ]
  },
  {
   "cell_type": "markdown",
   "metadata": {},
   "source": [
    "### Вывод: Разброс данных остался прежним, а среднее значение выросло, что говорит об эффективности препарата."
   ]
  },
  {
   "cell_type": "markdown",
   "metadata": {},
   "source": [
    "# Задача 4\n",
    "<p>На замовлення власника заводу група експертів провела оцінку вин «Шардоне» та\n",
    "«Каберне Совіньон», що випускаються цим заводом. Оцінка проводилася за 20 бальною шкалою\n",
    "(чим вищий бал, тим краще вино), результати подано у файлі wines.txt. Чи можна на основі цих\n",
    "оцінок вважати одне з вин кращим?</p>\n",
    "<p>Вибірки залежні оскільки оцінки прив'язані до одних експертів</p>"
   ]
  },
  {
   "cell_type": "code",
   "execution_count": 5,
   "metadata": {},
   "outputs": [
    {
     "data": {
      "image/png": "[encoded data removed]",
      "text/plain": [
       "<Figure size 432x288 with 1 Axes>"
      ]
     },
     "metadata": {
      "needs_background": "light"
     },
     "output_type": "display_data"
    },
    {
     "data": {
      "image/png": "[encoded data removed]",
      "text/plain": [
       "<Figure size 432x288 with 1 Axes>"
      ]
     },
     "metadata": {
      "needs_background": "light"
     },
     "output_type": "display_data"
    },
    {
     "name": "stdout",
     "output_type": "stream",
     "text": [
      "Is Difference normal: True\n",
      "Difference mean: 1.1700000000000008 confidence interval: (-0.07089166658824642, 2.410891666588248)\n",
      "Difference median: 1.0999999999999996 confidence interval: (-0.5999999999999979, 3.0000000000000018)\n"
     ]
    }
   ],
   "source": [
    "df = pd.read_csv(\"data_lab3_tasks/wines.txt\", sep='\\t')\n",
    "shardone = df[\"Шардоне\"].values\n",
    "с_sauvignon = df[\"Каберне Совіньон\"].values\n",
    "\n",
    "plt.hist(shardone, alpha=0.5, label=\"Shardone\", bins=7)\n",
    "plt.hist(с_sauvignon, alpha=0.5, label=\"Cabernet Sauvignon\", bins=7)\n",
    "plt.legend()\n",
    "plt.show()\n",
    "\n",
    "diffe = shardone - с_sauvignon\n",
    "plt.hist(diffe, bins=7)\n",
    "plt.show()\n",
    "\n",
    "print(\"Is Difference normal:\", myNormalTest(diffe))\n",
    "print(\"Difference mean:\", Mean(diffe), \"confidence interval:\", norm_mean_confidence_interval(diffe))\n",
    "print(\"Difference median:\", Median(diffe), \"confidence interval:\", median_conf_interval(diffe))"
   ]
  },
  {
   "cell_type": "markdown",
   "metadata": {},
   "source": [
    "Хоть критерий и говорит о нормальности распределения разниц, распределение не похоже на нормальное."
   ]
  },
  {
   "cell_type": "code",
   "execution_count": 7,
   "metadata": {},
   "outputs": [
    {
     "name": "stdout",
     "output_type": "stream",
     "text": [
      "Variance equality test: (True, 2.307154059597058, 3.178893104458269)\n",
      "Mean equality test: (True, 2.132920988730596, 2.2621571627409915)\n",
      "Wilcoxon test: (True, 1.376047416881589, 1.959963984540054)\n"
     ]
    }
   ],
   "source": [
    "print(\"Variance equality test:\", variance_equality(shardone, с_sauvignon))\n",
    "print(\"Mean equality test:\", mean_equality_dep(shardone, с_sauvignon))\n",
    "print(\"Wilcoxon test:\", WilcoxonSignedRanksTest(shardone, с_sauvignon))"
   ]
  },
  {
   "cell_type": "markdown",
   "metadata": {},
   "source": [
    "### Вывод: по данному набору данных нельзя считать одно вино лучшим."
   ]
  }
 ],
 "metadata": {
  "interpreter": {
   "hash": "63fd5069d213b44bf678585dea6b12cceca9941eaf7f819626cde1f2670de90d"
  },
  "kernelspec": {
   "display_name": "Python 3.9.1 64-bit",
   "language": "python",
   "name": "python3"
  },
  "language_info": {
   "codemirror_mode": {
    "name": "ipython",
    "version": 3
   },
   "file_extension": ".py",
   "mimetype": "text/x-python",
   "name": "python",
   "nbconvert_exporter": "python",
   "pygments_lexer": "ipython3",
   "version": "3.9.1"
  },
  "orig_nbformat": 4
 },
 "nbformat": 4,
 "nbformat_minor": 2
}
